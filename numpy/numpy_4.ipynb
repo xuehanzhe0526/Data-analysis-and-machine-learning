{
 "cells": [
  {
   "cell_type": "code",
   "execution_count": 4,
   "metadata": {
    "collapsed": false
   },
   "outputs": [
    {
     "name": "stdout",
     "output_type": "stream",
     "text": [
      "[0 1 2]\n",
      "[ 1.          2.71828183  7.3890561 ]\n"
     ]
    }
   ],
   "source": [
    "import numpy as np\n",
    "B = np.arange(3)\n",
    "print B\n",
    "print np.exp(B)\n"
   ]
  },
  {
   "cell_type": "code",
   "execution_count": 3,
   "metadata": {
    "collapsed": false
   },
   "outputs": [
    {
     "name": "stdout",
     "output_type": "stream",
     "text": [
      "[ 0.          1.          1.41421356]\n"
     ]
    }
   ],
   "source": [
    "print np.sqrt(B)"
   ]
  },
  {
   "cell_type": "code",
   "execution_count": 8,
   "metadata": {
    "collapsed": false
   },
   "outputs": [
    {
     "name": "stdout",
     "output_type": "stream",
     "text": [
      "[[ 8.  1.  2.  5.]\n",
      " [ 0.  5.  0.  2.]\n",
      " [ 0.  9.  7.  4.]]\n",
      "======\n",
      "[ 8.  1.  2.  5.  0.  5.  0.  2.  0.  9.  7.  4.]\n",
      "======\n",
      "[[ 8.  1.]\n",
      " [ 2.  5.]\n",
      " [ 0.  5.]\n",
      " [ 0.  2.]\n",
      " [ 0.  9.]\n",
      " [ 7.  4.]]\n",
      "======\n",
      "[[ 8.  2.  0.  0.  0.  7.]\n",
      " [ 1.  5.  5.  2.  9.  4.]]\n",
      "======\n",
      "None\n",
      "======\n",
      "[[ 8.  1.  2.  5.  0.  5.]\n",
      " [ 0.  2.  0.  9.  7.  4.]]\n"
     ]
    }
   ],
   "source": [
    "#Return the floor of the input\n",
    "a = np.floor(10*np.random.random((3,4)))\n",
    "print a\n",
    "\n",
    "print('======')\n",
    "#a.shape\n",
    "## flatten the array\n",
    "print a.ravel()\n",
    "print('======')\n",
    "a.shape = (6, 2)\n",
    "print a \n",
    "print('======')\n",
    "\n",
    "print a.T\n",
    "print('======')\n",
    "print a.resize((2,6))\n",
    "print('======')\n",
    "print a\n",
    "\n",
    "#If a dimension is given as -1 in a reshaping operation, the other dimensions are automatically calculated:\n",
    "#a.reshape(3,-1)"
   ]
  },
  {
   "cell_type": "code",
   "execution_count": 9,
   "metadata": {
    "collapsed": false
   },
   "outputs": [
    {
     "name": "stdout",
     "output_type": "stream",
     "text": [
      "[[ 1.  4.]\n",
      " [ 5.  1.]]\n",
      "---\n",
      "[[ 0.  4.]\n",
      " [ 2.  2.]]\n",
      "---\n",
      "[[ 1.  4.  0.  4.]\n",
      " [ 5.  1.  2.  2.]]\n",
      "======\n",
      "[[ 1.  4.]\n",
      " [ 5.  1.]\n",
      " [ 0.  4.]\n",
      " [ 2.  2.]]\n"
     ]
    }
   ],
   "source": [
    "a = np.floor(10*np.random.random((2,2)))\n",
    "b = np.floor(10*np.random.random((2,2)))\n",
    "print a\n",
    "print '---'\n",
    "print b\n",
    "print '---'\n",
    "print np.hstack((a,b)) # 横向拼接\n",
    "print('======')\n",
    "print np.vstack((a,b)) # 纵向拼接\n",
    "#np.hstack((a,b))"
   ]
  },
  {
   "cell_type": "code",
   "execution_count": 12,
   "metadata": {
    "collapsed": false
   },
   "outputs": [
    {
     "name": "stdout",
     "output_type": "stream",
     "text": [
      "[[ 2.  7.  8.  0.  0.  8.  9.  2.  4.  2.  2.  6.]\n",
      " [ 2.  4.  2.  9.  0.  5.  3.  2.  0.  6.  0.  5.]]\n",
      "[array([[ 2.,  7.,  8.,  0.],\n",
      "       [ 2.,  4.,  2.,  9.]]), array([[ 0.,  8.,  9.,  2.],\n",
      "       [ 0.,  5.,  3.,  2.]]), array([[ 4.,  2.,  2.,  6.],\n",
      "       [ 0.,  6.,  0.,  5.]])]\n",
      "[array([[ 2.,  7.,  8.],\n",
      "       [ 2.,  4.,  2.]]), array([[ 0.],\n",
      "       [ 9.]]), array([[ 0.,  8.,  9.,  2.,  4.,  2.,  2.,  6.],\n",
      "       [ 0.,  5.,  3.,  2.,  0.,  6.,  0.,  5.]])]\n",
      "[[ 5.  9.]\n",
      " [ 4.  3.]\n",
      " [ 8.  0.]\n",
      " [ 4.  7.]\n",
      " [ 0.  2.]\n",
      " [ 2.  4.]\n",
      " [ 6.  1.]\n",
      " [ 7.  6.]\n",
      " [ 3.  4.]\n",
      " [ 1.  0.]\n",
      " [ 8.  6.]\n",
      " [ 5.  5.]]\n"
     ]
    },
    {
     "data": {
      "text/plain": [
       "[array([[ 5.,  9.],\n",
       "        [ 4.,  3.],\n",
       "        [ 8.,  0.],\n",
       "        [ 4.,  7.]]), array([[ 0.,  2.],\n",
       "        [ 2.,  4.],\n",
       "        [ 6.,  1.],\n",
       "        [ 7.,  6.]]), array([[ 3.,  4.],\n",
       "        [ 1.,  0.],\n",
       "        [ 8.,  6.],\n",
       "        [ 5.,  5.]])]"
      ]
     },
     "execution_count": 12,
     "metadata": {},
     "output_type": "execute_result"
    }
   ],
   "source": [
    "a = np.floor(10*np.random.random((2,12)))\n",
    "print a\n",
    "print np.hsplit(a,3) #横向切分\n",
    "print np.hsplit(a,(3,4))   # Split a after the third and the fourth column\n",
    "a = np.floor(10*np.random.random((12,2)))\n",
    "print a\n",
    "np.vsplit(a,3) "
   ]
  },
  {
   "cell_type": "code",
   "execution_count": 13,
   "metadata": {
    "collapsed": false
   },
   "outputs": [
    {
     "name": "stdout",
     "output_type": "stream",
     "text": [
      "True\n",
      "(3, 4)\n",
      "4478334816\n",
      "4478334816\n"
     ]
    }
   ],
   "source": [
    "#Simple assignments make no copy of array objects or of their data.\n",
    "a = np.arange(12)\n",
    "b = a\n",
    "# a and b are two names for the same ndarray object\n",
    "print b is a\n",
    "b.shape = 3,4\n",
    "print a.shape\n",
    "print id(a)\n",
    "print id(b)"
   ]
  },
  {
   "cell_type": "code",
   "execution_count": 15,
   "metadata": {
    "collapsed": false
   },
   "outputs": [
    {
     "name": "stdout",
     "output_type": "stream",
     "text": [
      "False\n",
      "(3, 4)\n"
     ]
    },
    {
     "data": {
      "text/plain": [
       "array([[   0,    1,    2,    3],\n",
       "       [1234,    5,    6,    7],\n",
       "       [   8,    9,   10,   11]])"
      ]
     },
     "execution_count": 15,
     "metadata": {},
     "output_type": "execute_result"
    }
   ],
   "source": [
    "#The view method creates a new array object that looks at the same data.\n",
    "c = a.view()\n",
    "print c is a\n",
    "c.shape = 2,6\n",
    "print a.shape\n",
    "c[0,4] = 1234 #地址不同 但是里面元素公用 所以值也跟着改变\n",
    "a"
   ]
  },
  {
   "cell_type": "code",
   "execution_count": 16,
   "metadata": {
    "collapsed": false
   },
   "outputs": [
    {
     "name": "stdout",
     "output_type": "stream",
     "text": [
      "False\n",
      "[[9999    1    2    3]\n",
      " [1234    5    6    7]\n",
      " [   8    9   10   11]]\n",
      "[[   0    1    2    3]\n",
      " [1234    5    6    7]\n",
      " [   8    9   10   11]]\n"
     ]
    }
   ],
   "source": [
    "#The copy method makes a complete copy of the array and its data.\n",
    "d = a.copy() #深复制\n",
    "print d is a\n",
    "d[0,0] = 9999 #c\n",
    "print d \n",
    "print a "
   ]
  },
  {
   "cell_type": "code",
   "execution_count": null,
   "metadata": {
    "collapsed": true
   },
   "outputs": [],
   "source": []
  }
 ],
 "metadata": {
  "kernelspec": {
   "display_name": "Python 2",
   "language": "python",
   "name": "python2"
  },
  "language_info": {
   "codemirror_mode": {
    "name": "ipython",
    "version": 2
   },
   "file_extension": ".py",
   "mimetype": "text/x-python",
   "name": "python",
   "nbconvert_exporter": "python",
   "pygments_lexer": "ipython2",
   "version": "2.7.13"
  }
 },
 "nbformat": 4,
 "nbformat_minor": 1
}
